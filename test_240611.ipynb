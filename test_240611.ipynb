{
 "cells": [
  {
   "cell_type": "code",
   "execution_count": 1,
   "id": "b3cf829e",
   "metadata": {},
   "outputs": [],
   "source": [
    "import warnings\n",
    "warnings.filterwarnings('ignore')\n",
    "\n",
    "import pandas as pd\n",
    "import numpy as np"
   ]
  },
  {
   "cell_type": "code",
   "execution_count": 2,
   "id": "136d11c0",
   "metadata": {},
   "outputs": [],
   "source": [
    "df = pd.read_csv('indian_food2.csv')\n",
    "df = df.replace({'nan': np.nan, ' ': np.nan, '': np.nan})"
   ]
  },
  {
   "cell_type": "code",
   "execution_count": 3,
   "id": "07bb6f23",
   "metadata": {},
   "outputs": [
    {
     "data": {
      "text/html": [
       "<div>\n",
       "<style scoped>\n",
       "    .dataframe tbody tr th:only-of-type {\n",
       "        vertical-align: middle;\n",
       "    }\n",
       "\n",
       "    .dataframe tbody tr th {\n",
       "        vertical-align: top;\n",
       "    }\n",
       "\n",
       "    .dataframe thead th {\n",
       "        text-align: right;\n",
       "    }\n",
       "</style>\n",
       "<table border=\"1\" class=\"dataframe\">\n",
       "  <thead>\n",
       "    <tr style=\"text-align: right;\">\n",
       "      <th></th>\n",
       "      <th>id</th>\n",
       "      <th>name</th>\n",
       "      <th>ingredients</th>\n",
       "      <th>diet</th>\n",
       "      <th>prep_time</th>\n",
       "      <th>cook_time</th>\n",
       "      <th>flavor_profile</th>\n",
       "      <th>course</th>\n",
       "      <th>state</th>\n",
       "      <th>region</th>\n",
       "    </tr>\n",
       "  </thead>\n",
       "  <tbody>\n",
       "    <tr>\n",
       "      <td>0</td>\n",
       "      <td>1</td>\n",
       "      <td>Balu shahi</td>\n",
       "      <td>Maida flour, yogurt, oil, sugar</td>\n",
       "      <td>vegetarian</td>\n",
       "      <td>45</td>\n",
       "      <td>25</td>\n",
       "      <td>sweet</td>\n",
       "      <td>dessert</td>\n",
       "      <td>West Bengal</td>\n",
       "      <td>East</td>\n",
       "    </tr>\n",
       "    <tr>\n",
       "      <td>1</td>\n",
       "      <td>2</td>\n",
       "      <td>Boondi</td>\n",
       "      <td>Gram flour, ghee, sugar</td>\n",
       "      <td>vegetarian</td>\n",
       "      <td>80</td>\n",
       "      <td>30</td>\n",
       "      <td>sweet</td>\n",
       "      <td>dessert</td>\n",
       "      <td>Rajasthan</td>\n",
       "      <td>West</td>\n",
       "    </tr>\n",
       "  </tbody>\n",
       "</table>\n",
       "</div>"
      ],
      "text/plain": [
       "   id        name                      ingredients        diet  prep_time  \\\n",
       "0   1  Balu shahi  Maida flour, yogurt, oil, sugar  vegetarian         45   \n",
       "1   2      Boondi          Gram flour, ghee, sugar  vegetarian         80   \n",
       "\n",
       "   cook_time flavor_profile   course        state region  \n",
       "0         25          sweet  dessert  West Bengal   East  \n",
       "1         30          sweet  dessert    Rajasthan   West  "
      ]
     },
     "execution_count": 3,
     "metadata": {},
     "output_type": "execute_result"
    }
   ],
   "source": [
    "df.head(2)"
   ]
  },
  {
   "cell_type": "markdown",
   "id": "214c8a86",
   "metadata": {},
   "source": [
    "# 1-1"
   ]
  },
  {
   "cell_type": "code",
   "execution_count": 4,
   "id": "ff945846",
   "metadata": {},
   "outputs": [],
   "source": [
    "df = df.drop(columns='state')"
   ]
  },
  {
   "cell_type": "code",
   "execution_count": 5,
   "id": "a6c14383",
   "metadata": {
    "scrolled": true
   },
   "outputs": [
    {
     "data": {
      "text/html": [
       "<div>\n",
       "<style scoped>\n",
       "    .dataframe tbody tr th:only-of-type {\n",
       "        vertical-align: middle;\n",
       "    }\n",
       "\n",
       "    .dataframe tbody tr th {\n",
       "        vertical-align: top;\n",
       "    }\n",
       "\n",
       "    .dataframe thead th {\n",
       "        text-align: right;\n",
       "    }\n",
       "</style>\n",
       "<table border=\"1\" class=\"dataframe\">\n",
       "  <thead>\n",
       "    <tr style=\"text-align: right;\">\n",
       "      <th></th>\n",
       "      <th>id</th>\n",
       "      <th>name</th>\n",
       "      <th>ingredients</th>\n",
       "      <th>diet</th>\n",
       "      <th>prep_time</th>\n",
       "      <th>cook_time</th>\n",
       "      <th>flavor_profile</th>\n",
       "      <th>course</th>\n",
       "      <th>region</th>\n",
       "    </tr>\n",
       "  </thead>\n",
       "  <tbody>\n",
       "    <tr>\n",
       "      <td>0</td>\n",
       "      <td>1</td>\n",
       "      <td>Balu shahi</td>\n",
       "      <td>Maida flour, yogurt, oil, sugar</td>\n",
       "      <td>vegetarian</td>\n",
       "      <td>45</td>\n",
       "      <td>25</td>\n",
       "      <td>sweet</td>\n",
       "      <td>dessert</td>\n",
       "      <td>East</td>\n",
       "    </tr>\n",
       "  </tbody>\n",
       "</table>\n",
       "</div>"
      ],
      "text/plain": [
       "   id        name                      ingredients        diet  prep_time  \\\n",
       "0   1  Balu shahi  Maida flour, yogurt, oil, sugar  vegetarian         45   \n",
       "\n",
       "   cook_time flavor_profile   course region  \n",
       "0         25          sweet  dessert   East  "
      ]
     },
     "execution_count": 5,
     "metadata": {},
     "output_type": "execute_result"
    }
   ],
   "source": [
    "df.head(1)"
   ]
  },
  {
   "cell_type": "markdown",
   "id": "bd2004e0",
   "metadata": {},
   "source": [
    "# 1-2"
   ]
  },
  {
   "cell_type": "code",
   "execution_count": 6,
   "id": "aecf4765",
   "metadata": {},
   "outputs": [],
   "source": [
    "df = df[(df['cook_time'] > 0) & (df['prep_time'] > 0)]"
   ]
  },
  {
   "cell_type": "markdown",
   "id": "7778a131",
   "metadata": {},
   "source": [
    "# 1-3"
   ]
  },
  {
   "cell_type": "code",
   "execution_count": 7,
   "id": "c281adf8",
   "metadata": {},
   "outputs": [],
   "source": [
    "df = df[~df['region'].isin(['-1', ''])]"
   ]
  },
  {
   "cell_type": "code",
   "execution_count": 8,
   "id": "c0a5ba97",
   "metadata": {},
   "outputs": [],
   "source": [
    "df['region'] = df['region'].replace({'North East': 'North'})"
   ]
  },
  {
   "cell_type": "code",
   "execution_count": 9,
   "id": "f370d9c9",
   "metadata": {},
   "outputs": [],
   "source": [
    "df = df.dropna(subset=['region'])"
   ]
  },
  {
   "cell_type": "markdown",
   "id": "45e71c7f",
   "metadata": {},
   "source": [
    "# 1-4\n",
    "## np.where(조건~~~~, True, False)"
   ]
  },
  {
   "cell_type": "code",
   "execution_count": 10,
   "id": "63e97983",
   "metadata": {},
   "outputs": [],
   "source": [
    "df.loc[df['flavor_profile'] == 'sweet', 'ed_flavor_profile'] = 'sweet'\n",
    "df.loc[df['flavor_profile'] != 'sweet', 'ed_flavor_profile'] = 'not sweet'"
   ]
  },
  {
   "cell_type": "code",
   "execution_count": 11,
   "id": "a30a003a",
   "metadata": {},
   "outputs": [],
   "source": [
    "df['ed_flavor_profile'] = np.where(df['flavor_profile'] == 'sweet',\\\n",
    "                                   'sweet',\\\n",
    "                                   'not sweet')"
   ]
  },
  {
   "cell_type": "code",
   "execution_count": 12,
   "id": "82058089",
   "metadata": {},
   "outputs": [
    {
     "data": {
      "text/html": [
       "<div>\n",
       "<style scoped>\n",
       "    .dataframe tbody tr th:only-of-type {\n",
       "        vertical-align: middle;\n",
       "    }\n",
       "\n",
       "    .dataframe tbody tr th {\n",
       "        vertical-align: top;\n",
       "    }\n",
       "\n",
       "    .dataframe thead th {\n",
       "        text-align: right;\n",
       "    }\n",
       "</style>\n",
       "<table border=\"1\" class=\"dataframe\">\n",
       "  <thead>\n",
       "    <tr style=\"text-align: right;\">\n",
       "      <th></th>\n",
       "      <th>id</th>\n",
       "      <th>name</th>\n",
       "      <th>ingredients</th>\n",
       "      <th>diet</th>\n",
       "      <th>prep_time</th>\n",
       "      <th>cook_time</th>\n",
       "      <th>flavor_profile</th>\n",
       "      <th>course</th>\n",
       "      <th>region</th>\n",
       "      <th>ed_flavor_profile</th>\n",
       "    </tr>\n",
       "  </thead>\n",
       "  <tbody>\n",
       "    <tr>\n",
       "      <td>0</td>\n",
       "      <td>1</td>\n",
       "      <td>Balu shahi</td>\n",
       "      <td>Maida flour, yogurt, oil, sugar</td>\n",
       "      <td>vegetarian</td>\n",
       "      <td>45</td>\n",
       "      <td>25</td>\n",
       "      <td>sweet</td>\n",
       "      <td>dessert</td>\n",
       "      <td>East</td>\n",
       "      <td>sweet</td>\n",
       "    </tr>\n",
       "    <tr>\n",
       "      <td>1</td>\n",
       "      <td>2</td>\n",
       "      <td>Boondi</td>\n",
       "      <td>Gram flour, ghee, sugar</td>\n",
       "      <td>vegetarian</td>\n",
       "      <td>80</td>\n",
       "      <td>30</td>\n",
       "      <td>sweet</td>\n",
       "      <td>dessert</td>\n",
       "      <td>West</td>\n",
       "      <td>sweet</td>\n",
       "    </tr>\n",
       "    <tr>\n",
       "      <td>2</td>\n",
       "      <td>3</td>\n",
       "      <td>Gajar ka halwa</td>\n",
       "      <td>Carrots, milk, sugar, ghee, cashews, raisins</td>\n",
       "      <td>vegetarian</td>\n",
       "      <td>15</td>\n",
       "      <td>60</td>\n",
       "      <td>sweet</td>\n",
       "      <td>dessert</td>\n",
       "      <td>North</td>\n",
       "      <td>sweet</td>\n",
       "    </tr>\n",
       "  </tbody>\n",
       "</table>\n",
       "</div>"
      ],
      "text/plain": [
       "   id            name                                   ingredients  \\\n",
       "0   1      Balu shahi               Maida flour, yogurt, oil, sugar   \n",
       "1   2          Boondi                       Gram flour, ghee, sugar   \n",
       "2   3  Gajar ka halwa  Carrots, milk, sugar, ghee, cashews, raisins   \n",
       "\n",
       "         diet  prep_time  cook_time flavor_profile   course region  \\\n",
       "0  vegetarian         45         25          sweet  dessert   East   \n",
       "1  vegetarian         80         30          sweet  dessert   West   \n",
       "2  vegetarian         15         60          sweet  dessert  North   \n",
       "\n",
       "  ed_flavor_profile  \n",
       "0             sweet  \n",
       "1             sweet  \n",
       "2             sweet  "
      ]
     },
     "execution_count": 12,
     "metadata": {},
     "output_type": "execute_result"
    }
   ],
   "source": [
    "df.head(3)"
   ]
  },
  {
   "cell_type": "markdown",
   "id": "289bd998",
   "metadata": {},
   "source": [
    "# 1-5"
   ]
  },
  {
   "cell_type": "code",
   "execution_count": 13,
   "id": "f86d38fa",
   "metadata": {},
   "outputs": [],
   "source": [
    "df.loc[df['course'] == 'main course', 'ed_course'] = 'main course'\n",
    "df.loc[df['course'] != 'main course', 'ed_course'] = 'not main course'"
   ]
  },
  {
   "cell_type": "code",
   "execution_count": 14,
   "id": "6e84bd09",
   "metadata": {},
   "outputs": [],
   "source": [
    "df['ed_course'] = np.where(df['course'] == 'main course',\\\n",
    "                           'main course',\\\n",
    "                           'not main course')"
   ]
  },
  {
   "cell_type": "markdown",
   "id": "99c3bf75",
   "metadata": {},
   "source": [
    "# 1-6"
   ]
  },
  {
   "cell_type": "code",
   "execution_count": 15,
   "id": "a218c74f",
   "metadata": {},
   "outputs": [],
   "source": [
    "df['ingredients_no'] = df['ingredients'].str.split(', ').str.len()"
   ]
  },
  {
   "cell_type": "code",
   "execution_count": 16,
   "id": "23c80873",
   "metadata": {},
   "outputs": [
    {
     "data": {
      "text/html": [
       "<div>\n",
       "<style scoped>\n",
       "    .dataframe tbody tr th:only-of-type {\n",
       "        vertical-align: middle;\n",
       "    }\n",
       "\n",
       "    .dataframe tbody tr th {\n",
       "        vertical-align: top;\n",
       "    }\n",
       "\n",
       "    .dataframe thead th {\n",
       "        text-align: right;\n",
       "    }\n",
       "</style>\n",
       "<table border=\"1\" class=\"dataframe\">\n",
       "  <thead>\n",
       "    <tr style=\"text-align: right;\">\n",
       "      <th></th>\n",
       "      <th>id</th>\n",
       "      <th>name</th>\n",
       "      <th>ingredients</th>\n",
       "      <th>diet</th>\n",
       "      <th>prep_time</th>\n",
       "      <th>cook_time</th>\n",
       "      <th>flavor_profile</th>\n",
       "      <th>course</th>\n",
       "      <th>region</th>\n",
       "      <th>ed_flavor_profile</th>\n",
       "      <th>ed_course</th>\n",
       "      <th>ingredients_no</th>\n",
       "    </tr>\n",
       "  </thead>\n",
       "  <tbody>\n",
       "    <tr>\n",
       "      <td>0</td>\n",
       "      <td>1</td>\n",
       "      <td>Balu shahi</td>\n",
       "      <td>Maida flour, yogurt, oil, sugar</td>\n",
       "      <td>vegetarian</td>\n",
       "      <td>45</td>\n",
       "      <td>25</td>\n",
       "      <td>sweet</td>\n",
       "      <td>dessert</td>\n",
       "      <td>East</td>\n",
       "      <td>sweet</td>\n",
       "      <td>not main course</td>\n",
       "      <td>4</td>\n",
       "    </tr>\n",
       "    <tr>\n",
       "      <td>1</td>\n",
       "      <td>2</td>\n",
       "      <td>Boondi</td>\n",
       "      <td>Gram flour, ghee, sugar</td>\n",
       "      <td>vegetarian</td>\n",
       "      <td>80</td>\n",
       "      <td>30</td>\n",
       "      <td>sweet</td>\n",
       "      <td>dessert</td>\n",
       "      <td>West</td>\n",
       "      <td>sweet</td>\n",
       "      <td>not main course</td>\n",
       "      <td>3</td>\n",
       "    </tr>\n",
       "  </tbody>\n",
       "</table>\n",
       "</div>"
      ],
      "text/plain": [
       "   id        name                      ingredients        diet  prep_time  \\\n",
       "0   1  Balu shahi  Maida flour, yogurt, oil, sugar  vegetarian         45   \n",
       "1   2      Boondi          Gram flour, ghee, sugar  vegetarian         80   \n",
       "\n",
       "   cook_time flavor_profile   course region ed_flavor_profile  \\\n",
       "0         25          sweet  dessert   East             sweet   \n",
       "1         30          sweet  dessert   West             sweet   \n",
       "\n",
       "         ed_course  ingredients_no  \n",
       "0  not main course               4  \n",
       "1  not main course               3  "
      ]
     },
     "execution_count": 16,
     "metadata": {},
     "output_type": "execute_result"
    }
   ],
   "source": [
    "df.head(2)"
   ]
  },
  {
   "cell_type": "code",
   "execution_count": 17,
   "id": "716f96fa",
   "metadata": {},
   "outputs": [
    {
     "data": {
      "text/plain": [
       "(212, 12)"
      ]
     },
     "execution_count": 17,
     "metadata": {},
     "output_type": "execute_result"
    }
   ],
   "source": [
    "df.shape"
   ]
  },
  {
   "cell_type": "code",
   "execution_count": null,
   "id": "ee3f2f99",
   "metadata": {},
   "outputs": [],
   "source": []
  }
 ],
 "metadata": {
  "kernelspec": {
   "display_name": "Python 3 (ipykernel)",
   "language": "python",
   "name": "python3"
  },
  "language_info": {
   "codemirror_mode": {
    "name": "ipython",
    "version": 3
   },
   "file_extension": ".py",
   "mimetype": "text/x-python",
   "name": "python",
   "nbconvert_exporter": "python",
   "pygments_lexer": "ipython3",
   "version": "3.7.4"
  }
 },
 "nbformat": 4,
 "nbformat_minor": 5
}
